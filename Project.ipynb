{
 "cells": [
  {
   "cell_type": "code",
   "execution_count": 26,
   "metadata": {},
   "outputs": [],
   "source": [
    "import numpy as np\n",
    "import pandas as pd\n",
    "from sklearn.model_selection import train_test_split, cross_val_score, GridSearchCV\n",
    "from sklearn.preprocessing import StandardScaler\n",
    "from sklearn.linear_model import LinearRegression, Ridge, Lasso\n",
    "from sklearn.metrics import mean_absolute_error, mean_squared_error, r2_score\n",
    "from sklearn.pipeline import Pipeline\n",
    "from sklearn.compose import ColumnTransformer\n",
    "import matplotlib.pyplot as plt"
   ]
  },
  {
   "cell_type": "code",
   "execution_count": 2,
   "metadata": {},
   "outputs": [],
   "source": [
    "df = pd.read_csv(r'DataSets\\indexData.csv')\n",
    "df2 = pd.read_csv(r'DataSets\\prices.csv')"
   ]
  },
  {
   "cell_type": "code",
   "execution_count": 3,
   "metadata": {},
   "outputs": [
    {
     "data": {
      "text/plain": [
       "(112457, 8)"
      ]
     },
     "execution_count": 3,
     "metadata": {},
     "output_type": "execute_result"
    }
   ],
   "source": [
    "df.shape"
   ]
  },
  {
   "cell_type": "code",
   "execution_count": 4,
   "metadata": {},
   "outputs": [
    {
     "data": {
      "text/plain": [
       "(851264, 7)"
      ]
     },
     "execution_count": 4,
     "metadata": {},
     "output_type": "execute_result"
    }
   ],
   "source": [
    "df2.shape"
   ]
  },
  {
   "cell_type": "code",
   "execution_count": 45,
   "metadata": {},
   "outputs": [
    {
     "data": {
      "application/vnd.microsoft.datawrangler.viewer.v0+json": {
       "columns": [
        {
         "name": "index",
         "rawType": "int64",
         "type": "integer"
        },
        {
         "name": "date",
         "rawType": "object",
         "type": "string"
        },
        {
         "name": "symbol",
         "rawType": "object",
         "type": "string"
        },
        {
         "name": "open",
         "rawType": "float64",
         "type": "float"
        },
        {
         "name": "close",
         "rawType": "float64",
         "type": "float"
        },
        {
         "name": "low",
         "rawType": "float64",
         "type": "float"
        },
        {
         "name": "high",
         "rawType": "float64",
         "type": "float"
        },
        {
         "name": "volume",
         "rawType": "float64",
         "type": "float"
        },
        {
         "name": "Daily Return",
         "rawType": "float64",
         "type": "float"
        }
       ],
       "conversionMethod": "pd.DataFrame",
       "ref": "93d18568-96f4-45ae-a4f7-a5595ff70581",
       "rows": [
        [
         "0",
         "2016-01-05 00:00:00",
         "WLTW",
         "123.43",
         "125.839996",
         "122.309998",
         "126.25",
         "2163600.0",
         "2.4099959999999925"
        ],
        [
         "1",
         "2016-01-06 00:00:00",
         "WLTW",
         "125.239998",
         "119.980003",
         "119.940002",
         "125.540001",
         "2386400.0",
         "-5.2599950000000035"
        ],
        [
         "2",
         "2016-01-07 00:00:00",
         "WLTW",
         "116.379997",
         "114.949997",
         "114.93",
         "119.739998",
         "2489500.0",
         "-1.4300000000000068"
        ],
        [
         "3",
         "2016-01-08 00:00:00",
         "WLTW",
         "115.480003",
         "116.620003",
         "113.5",
         "117.440002",
         "2006300.0",
         "1.1400000000000006"
        ],
        [
         "4",
         "2016-01-11 00:00:00",
         "WLTW",
         "117.010002",
         "114.970001",
         "114.089996",
         "117.330002",
         "1408600.0",
         "-2.0400010000000037"
        ],
        [
         "5",
         "2016-01-12 00:00:00",
         "WLTW",
         "115.510002",
         "115.550003",
         "114.5",
         "116.059998",
         "1098000.0",
         "0.04000100000000373"
        ],
        [
         "6",
         "2016-01-13 00:00:00",
         "WLTW",
         "116.459999",
         "112.849998",
         "112.589996",
         "117.07",
         "949600.0",
         "-3.610000999999997"
        ],
        [
         "7",
         "2016-01-14 00:00:00",
         "WLTW",
         "113.510002",
         "114.379997",
         "110.050003",
         "115.029999",
         "785300.0",
         "0.869995000000003"
        ],
        [
         "8",
         "2016-01-15 00:00:00",
         "WLTW",
         "113.330002",
         "112.529999",
         "111.919998",
         "114.879997",
         "1093700.0",
         "-0.8000029999999896"
        ],
        [
         "9",
         "2016-01-19 00:00:00",
         "WLTW",
         "113.660004",
         "110.379997",
         "109.870003",
         "115.870003",
         "1523500.0",
         "-3.2800069999999977"
        ],
        [
         "10",
         "2016-01-20 00:00:00",
         "WLTW",
         "109.059998",
         "109.300003",
         "108.32",
         "111.599998",
         "1653900.0",
         "0.24000500000001068"
        ],
        [
         "11",
         "2016-01-21 00:00:00",
         "WLTW",
         "109.730003",
         "110.0",
         "108.32",
         "110.580002",
         "944300.0",
         "0.2699970000000036"
        ],
        [
         "12",
         "2016-01-22 00:00:00",
         "WLTW",
         "111.879997",
         "111.949997",
         "110.190002",
         "112.949997",
         "744900.0",
         "0.06999999999999318"
        ],
        [
         "13",
         "2016-01-25 00:00:00",
         "WLTW",
         "111.32",
         "110.120003",
         "110.0",
         "114.629997",
         "703800.0",
         "-1.1999969999999962"
        ],
        [
         "14",
         "2016-01-26 00:00:00",
         "WLTW",
         "110.419998",
         "111.0",
         "107.300003",
         "111.400002",
         "563100.0",
         "0.5800019999999932"
        ],
        [
         "15",
         "2016-01-27 00:00:00",
         "WLTW",
         "110.769997",
         "110.709999",
         "109.019997",
         "112.57",
         "896100.0",
         "-0.05999800000000732"
        ],
        [
         "16",
         "2016-01-28 00:00:00",
         "WLTW",
         "110.900002",
         "112.580002",
         "109.900002",
         "112.970001",
         "680400.0",
         "1.6799999999999926"
        ],
        [
         "17",
         "2016-01-29 00:00:00",
         "WLTW",
         "113.349998",
         "114.470001",
         "111.669998",
         "114.589996",
         "749900.0",
         "1.120002999999997"
        ],
        [
         "18",
         "2016-02-01 00:00:00",
         "WLTW",
         "114.0",
         "114.5",
         "112.900002",
         "114.849998",
         "574200.0",
         "0.5"
        ],
        [
         "19",
         "2016-02-02 00:00:00",
         "WLTW",
         "113.25",
         "110.559998",
         "109.75",
         "113.860001",
         "694800.0",
         "-2.690002000000007"
        ],
        [
         "20",
         "2016-02-03 00:00:00",
         "WLTW",
         "113.379997",
         "114.050003",
         "109.639999",
         "114.639999",
         "896300.0",
         "0.6700060000000008"
        ],
        [
         "21",
         "2016-02-04 00:00:00",
         "WLTW",
         "114.080002",
         "115.709999",
         "114.080002",
         "116.32",
         "956300.0",
         "1.629997000000003"
        ],
        [
         "22",
         "2016-02-05 00:00:00",
         "WLTW",
         "115.120003",
         "114.019997",
         "109.709999",
         "116.489998",
         "997100.0",
         "-1.1000059999999934"
        ],
        [
         "23",
         "2016-02-08 00:00:00",
         "WLTW",
         "113.300003",
         "111.160004",
         "110.459999",
         "113.300003",
         "1200500.0",
         "-2.139999000000003"
        ],
        [
         "24",
         "2016-02-09 00:00:00",
         "WLTW",
         "111.169998",
         "110.650002",
         "109.639999",
         "112.110001",
         "1725200.0",
         "-0.5199960000000061"
        ],
        [
         "25",
         "2016-02-10 00:00:00",
         "WLTW",
         "106.730003",
         "107.519997",
         "106.360001",
         "112.110001",
         "1946000.0",
         "0.7899940000000072"
        ],
        [
         "26",
         "2016-02-11 00:00:00",
         "WLTW",
         "105.629997",
         "107.129997",
         "104.110001",
         "109.260002",
         "1319500.0",
         "1.5"
        ],
        [
         "27",
         "2016-02-12 00:00:00",
         "WLTW",
         "108.559998",
         "107.839996",
         "107.07",
         "109.43",
         "922400.0",
         "-0.7200019999999938"
        ],
        [
         "28",
         "2016-02-16 00:00:00",
         "WLTW",
         "109.110001",
         "110.769997",
         "107.010002",
         "111.300003",
         "1185100.0",
         "1.6599960000000067"
        ],
        [
         "29",
         "2016-02-17 00:00:00",
         "WLTW",
         "110.830002",
         "111.239998",
         "107.970001",
         "112.110001",
         "921500.0",
         "0.4099960000000067"
        ],
        [
         "30",
         "2016-02-18 00:00:00",
         "WLTW",
         "111.120003",
         "111.599998",
         "108.93",
         "112.199997",
         "440900.0",
         "0.4799950000000024"
        ],
        [
         "31",
         "2016-02-19 00:00:00",
         "WLTW",
         "111.370003",
         "110.330002",
         "107.279999",
         "112.400002",
         "1244300.0",
         "-1.0400010000000037"
        ],
        [
         "32",
         "2016-02-22 00:00:00",
         "WLTW",
         "111.360001",
         "113.040001",
         "111.010002",
         "113.230003",
         "681300.0",
         "1.6800000000000068"
        ],
        [
         "33",
         "2016-02-23 00:00:00",
         "WLTW",
         "112.370003",
         "111.889999",
         "111.349998",
         "112.800003",
         "411200.0",
         "-0.4800039999999939"
        ],
        [
         "34",
         "2016-02-24 00:00:00",
         "WLTW",
         "110.769997",
         "111.559998",
         "109.82",
         "112.489998",
         "447300.0",
         "0.7900009999999895"
        ],
        [
         "35",
         "2016-02-25 00:00:00",
         "WLTW",
         "111.599998",
         "112.879997",
         "110.75",
         "112.989998",
         "559200.0",
         "1.2799990000000037"
        ],
        [
         "36",
         "2016-02-26 00:00:00",
         "WLTW",
         "113.339996",
         "112.75",
         "111.010002",
         "114.18",
         "459900.0",
         "-0.5899959999999993"
        ],
        [
         "37",
         "2016-02-29 00:00:00",
         "WLTW",
         "113.040001",
         "113.32",
         "111.650002",
         "115.360001",
         "971600.0",
         "0.27999899999998945"
        ],
        [
         "38",
         "2016-03-01 00:00:00",
         "WLTW",
         "114.269997",
         "115.510002",
         "112.650002",
         "115.57",
         "694100.0",
         "1.2400049999999965"
        ],
        [
         "39",
         "2016-03-02 00:00:00",
         "WLTW",
         "115.349998",
         "116.779999",
         "115.199997",
         "117.089996",
         "1159600.0",
         "1.4300010000000043"
        ],
        [
         "40",
         "2016-03-03 00:00:00",
         "WLTW",
         "116.489998",
         "117.0",
         "115.419998",
         "117.669998",
         "884700.0",
         "0.5100020000000001"
        ],
        [
         "41",
         "2016-03-04 00:00:00",
         "WLTW",
         "116.610001",
         "117.190002",
         "115.57",
         "117.480003",
         "692000.0",
         "0.58000100000001"
        ],
        [
         "42",
         "2016-03-07 00:00:00",
         "WLTW",
         "116.050003",
         "116.949997",
         "115.989998",
         "117.480003",
         "898000.0",
         "0.8999939999999924"
        ],
        [
         "43",
         "2016-03-08 00:00:00",
         "WLTW",
         "116.5",
         "116.709999",
         "115.449997",
         "117.370003",
         "844500.0",
         "0.20999899999999627"
        ],
        [
         "44",
         "2016-03-09 00:00:00",
         "WLTW",
         "117.050003",
         "116.489998",
         "115.5",
         "117.309998",
         "796500.0",
         "-0.5600050000000039"
        ],
        [
         "45",
         "2016-03-10 00:00:00",
         "WLTW",
         "116.910004",
         "116.82",
         "114.139999",
         "118.0",
         "416800.0",
         "-0.09000400000000752"
        ],
        [
         "46",
         "2016-03-11 00:00:00",
         "WLTW",
         "117.93",
         "120.620003",
         "116.629997",
         "120.760002",
         "590200.0",
         "2.69000299999999"
        ],
        [
         "47",
         "2016-03-14 00:00:00",
         "WLTW",
         "120.419998",
         "120.629997",
         "118.599998",
         "121.040001",
         "495100.0",
         "0.20999899999999627"
        ],
        [
         "48",
         "2016-03-15 00:00:00",
         "WLTW",
         "119.839996",
         "120.699997",
         "118.089996",
         "120.760002",
         "515800.0",
         "0.8600009999999969"
        ],
        [
         "49",
         "2016-03-16 00:00:00",
         "WLTW",
         "120.349998",
         "120.82",
         "119.010002",
         "121.040001",
         "562100.0",
         "0.4700019999999938"
        ]
       ],
       "shape": {
        "columns": 8,
        "rows": 851264
       }
      },
      "text/html": [
       "<div>\n",
       "<style scoped>\n",
       "    .dataframe tbody tr th:only-of-type {\n",
       "        vertical-align: middle;\n",
       "    }\n",
       "\n",
       "    .dataframe tbody tr th {\n",
       "        vertical-align: top;\n",
       "    }\n",
       "\n",
       "    .dataframe thead th {\n",
       "        text-align: right;\n",
       "    }\n",
       "</style>\n",
       "<table border=\"1\" class=\"dataframe\">\n",
       "  <thead>\n",
       "    <tr style=\"text-align: right;\">\n",
       "      <th></th>\n",
       "      <th>date</th>\n",
       "      <th>symbol</th>\n",
       "      <th>open</th>\n",
       "      <th>close</th>\n",
       "      <th>low</th>\n",
       "      <th>high</th>\n",
       "      <th>volume</th>\n",
       "      <th>Daily Return</th>\n",
       "    </tr>\n",
       "  </thead>\n",
       "  <tbody>\n",
       "    <tr>\n",
       "      <th>0</th>\n",
       "      <td>2016-01-05 00:00:00</td>\n",
       "      <td>WLTW</td>\n",
       "      <td>123.430000</td>\n",
       "      <td>125.839996</td>\n",
       "      <td>122.309998</td>\n",
       "      <td>126.250000</td>\n",
       "      <td>2163600.0</td>\n",
       "      <td>2.409996</td>\n",
       "    </tr>\n",
       "    <tr>\n",
       "      <th>1</th>\n",
       "      <td>2016-01-06 00:00:00</td>\n",
       "      <td>WLTW</td>\n",
       "      <td>125.239998</td>\n",
       "      <td>119.980003</td>\n",
       "      <td>119.940002</td>\n",
       "      <td>125.540001</td>\n",
       "      <td>2386400.0</td>\n",
       "      <td>-5.259995</td>\n",
       "    </tr>\n",
       "    <tr>\n",
       "      <th>2</th>\n",
       "      <td>2016-01-07 00:00:00</td>\n",
       "      <td>WLTW</td>\n",
       "      <td>116.379997</td>\n",
       "      <td>114.949997</td>\n",
       "      <td>114.930000</td>\n",
       "      <td>119.739998</td>\n",
       "      <td>2489500.0</td>\n",
       "      <td>-1.430000</td>\n",
       "    </tr>\n",
       "    <tr>\n",
       "      <th>3</th>\n",
       "      <td>2016-01-08 00:00:00</td>\n",
       "      <td>WLTW</td>\n",
       "      <td>115.480003</td>\n",
       "      <td>116.620003</td>\n",
       "      <td>113.500000</td>\n",
       "      <td>117.440002</td>\n",
       "      <td>2006300.0</td>\n",
       "      <td>1.140000</td>\n",
       "    </tr>\n",
       "    <tr>\n",
       "      <th>4</th>\n",
       "      <td>2016-01-11 00:00:00</td>\n",
       "      <td>WLTW</td>\n",
       "      <td>117.010002</td>\n",
       "      <td>114.970001</td>\n",
       "      <td>114.089996</td>\n",
       "      <td>117.330002</td>\n",
       "      <td>1408600.0</td>\n",
       "      <td>-2.040001</td>\n",
       "    </tr>\n",
       "    <tr>\n",
       "      <th>...</th>\n",
       "      <td>...</td>\n",
       "      <td>...</td>\n",
       "      <td>...</td>\n",
       "      <td>...</td>\n",
       "      <td>...</td>\n",
       "      <td>...</td>\n",
       "      <td>...</td>\n",
       "      <td>...</td>\n",
       "    </tr>\n",
       "    <tr>\n",
       "      <th>851259</th>\n",
       "      <td>2016-12-30</td>\n",
       "      <td>ZBH</td>\n",
       "      <td>103.309998</td>\n",
       "      <td>103.199997</td>\n",
       "      <td>102.849998</td>\n",
       "      <td>103.930000</td>\n",
       "      <td>973800.0</td>\n",
       "      <td>-0.110001</td>\n",
       "    </tr>\n",
       "    <tr>\n",
       "      <th>851260</th>\n",
       "      <td>2016-12-30</td>\n",
       "      <td>ZION</td>\n",
       "      <td>43.070000</td>\n",
       "      <td>43.040001</td>\n",
       "      <td>42.689999</td>\n",
       "      <td>43.310001</td>\n",
       "      <td>1938100.0</td>\n",
       "      <td>-0.029999</td>\n",
       "    </tr>\n",
       "    <tr>\n",
       "      <th>851261</th>\n",
       "      <td>2016-12-30</td>\n",
       "      <td>ZTS</td>\n",
       "      <td>53.639999</td>\n",
       "      <td>53.529999</td>\n",
       "      <td>53.270000</td>\n",
       "      <td>53.740002</td>\n",
       "      <td>1701200.0</td>\n",
       "      <td>-0.110000</td>\n",
       "    </tr>\n",
       "    <tr>\n",
       "      <th>851262</th>\n",
       "      <td>2016-12-30 00:00:00</td>\n",
       "      <td>AIV</td>\n",
       "      <td>44.730000</td>\n",
       "      <td>45.450001</td>\n",
       "      <td>44.410000</td>\n",
       "      <td>45.590000</td>\n",
       "      <td>1380900.0</td>\n",
       "      <td>0.720001</td>\n",
       "    </tr>\n",
       "    <tr>\n",
       "      <th>851263</th>\n",
       "      <td>2016-12-30 00:00:00</td>\n",
       "      <td>FTV</td>\n",
       "      <td>54.200001</td>\n",
       "      <td>53.630001</td>\n",
       "      <td>53.389999</td>\n",
       "      <td>54.480000</td>\n",
       "      <td>705100.0</td>\n",
       "      <td>-0.570000</td>\n",
       "    </tr>\n",
       "  </tbody>\n",
       "</table>\n",
       "<p>851264 rows × 8 columns</p>\n",
       "</div>"
      ],
      "text/plain": [
       "                       date symbol        open       close         low  \\\n",
       "0       2016-01-05 00:00:00   WLTW  123.430000  125.839996  122.309998   \n",
       "1       2016-01-06 00:00:00   WLTW  125.239998  119.980003  119.940002   \n",
       "2       2016-01-07 00:00:00   WLTW  116.379997  114.949997  114.930000   \n",
       "3       2016-01-08 00:00:00   WLTW  115.480003  116.620003  113.500000   \n",
       "4       2016-01-11 00:00:00   WLTW  117.010002  114.970001  114.089996   \n",
       "...                     ...    ...         ...         ...         ...   \n",
       "851259           2016-12-30    ZBH  103.309998  103.199997  102.849998   \n",
       "851260           2016-12-30   ZION   43.070000   43.040001   42.689999   \n",
       "851261           2016-12-30    ZTS   53.639999   53.529999   53.270000   \n",
       "851262  2016-12-30 00:00:00    AIV   44.730000   45.450001   44.410000   \n",
       "851263  2016-12-30 00:00:00    FTV   54.200001   53.630001   53.389999   \n",
       "\n",
       "              high     volume  Daily Return  \n",
       "0       126.250000  2163600.0      2.409996  \n",
       "1       125.540001  2386400.0     -5.259995  \n",
       "2       119.739998  2489500.0     -1.430000  \n",
       "3       117.440002  2006300.0      1.140000  \n",
       "4       117.330002  1408600.0     -2.040001  \n",
       "...            ...        ...           ...  \n",
       "851259  103.930000   973800.0     -0.110001  \n",
       "851260   43.310001  1938100.0     -0.029999  \n",
       "851261   53.740002  1701200.0     -0.110000  \n",
       "851262   45.590000  1380900.0      0.720001  \n",
       "851263   54.480000   705100.0     -0.570000  \n",
       "\n",
       "[851264 rows x 8 columns]"
      ]
     },
     "execution_count": 45,
     "metadata": {},
     "output_type": "execute_result"
    }
   ],
   "source": [
    "df2['Daily Return'] = df2['close'] - df2['open']\n",
    "df2"
   ]
  },
  {
   "cell_type": "code",
   "execution_count": 4,
   "metadata": {},
   "outputs": [
    {
     "data": {
      "application/vnd.microsoft.datawrangler.viewer.v0+json": {
       "columns": [
        {
         "name": "index",
         "rawType": "int64",
         "type": "integer"
        },
        {
         "name": "Index",
         "rawType": "object",
         "type": "string"
        },
        {
         "name": "Date",
         "rawType": "object",
         "type": "string"
        },
        {
         "name": "Open",
         "rawType": "float64",
         "type": "float"
        },
        {
         "name": "High",
         "rawType": "float64",
         "type": "float"
        },
        {
         "name": "Low",
         "rawType": "float64",
         "type": "float"
        },
        {
         "name": "Close",
         "rawType": "float64",
         "type": "float"
        },
        {
         "name": "Adj Close",
         "rawType": "float64",
         "type": "float"
        },
        {
         "name": "Volume",
         "rawType": "float64",
         "type": "float"
        }
       ],
       "conversionMethod": "pd.DataFrame",
       "ref": "ee0c0aac-b5d5-450f-b12a-cb8f0672c3b6",
       "rows": [
        [
         "0",
         "NYA",
         "1965-12-31",
         "528.690002",
         "528.690002",
         "528.690002",
         "528.690002",
         "528.690002",
         "0.0"
        ],
        [
         "1",
         "NYA",
         "1966-01-03",
         "527.210022",
         "527.210022",
         "527.210022",
         "527.210022",
         "527.210022",
         "0.0"
        ],
        [
         "2",
         "NYA",
         "1966-01-04",
         "527.840027",
         "527.840027",
         "527.840027",
         "527.840027",
         "527.840027",
         "0.0"
        ],
        [
         "3",
         "NYA",
         "1966-01-05",
         "531.119995",
         "531.119995",
         "531.119995",
         "531.119995",
         "531.119995",
         "0.0"
        ],
        [
         "4",
         "NYA",
         "1966-01-06",
         "532.070007",
         "532.070007",
         "532.070007",
         "532.070007",
         "532.070007",
         "0.0"
        ]
       ],
       "shape": {
        "columns": 8,
        "rows": 5
       }
      },
      "text/html": [
       "<div>\n",
       "<style scoped>\n",
       "    .dataframe tbody tr th:only-of-type {\n",
       "        vertical-align: middle;\n",
       "    }\n",
       "\n",
       "    .dataframe tbody tr th {\n",
       "        vertical-align: top;\n",
       "    }\n",
       "\n",
       "    .dataframe thead th {\n",
       "        text-align: right;\n",
       "    }\n",
       "</style>\n",
       "<table border=\"1\" class=\"dataframe\">\n",
       "  <thead>\n",
       "    <tr style=\"text-align: right;\">\n",
       "      <th></th>\n",
       "      <th>Index</th>\n",
       "      <th>Date</th>\n",
       "      <th>Open</th>\n",
       "      <th>High</th>\n",
       "      <th>Low</th>\n",
       "      <th>Close</th>\n",
       "      <th>Adj Close</th>\n",
       "      <th>Volume</th>\n",
       "    </tr>\n",
       "  </thead>\n",
       "  <tbody>\n",
       "    <tr>\n",
       "      <th>0</th>\n",
       "      <td>NYA</td>\n",
       "      <td>1965-12-31</td>\n",
       "      <td>528.690002</td>\n",
       "      <td>528.690002</td>\n",
       "      <td>528.690002</td>\n",
       "      <td>528.690002</td>\n",
       "      <td>528.690002</td>\n",
       "      <td>0.0</td>\n",
       "    </tr>\n",
       "    <tr>\n",
       "      <th>1</th>\n",
       "      <td>NYA</td>\n",
       "      <td>1966-01-03</td>\n",
       "      <td>527.210022</td>\n",
       "      <td>527.210022</td>\n",
       "      <td>527.210022</td>\n",
       "      <td>527.210022</td>\n",
       "      <td>527.210022</td>\n",
       "      <td>0.0</td>\n",
       "    </tr>\n",
       "    <tr>\n",
       "      <th>2</th>\n",
       "      <td>NYA</td>\n",
       "      <td>1966-01-04</td>\n",
       "      <td>527.840027</td>\n",
       "      <td>527.840027</td>\n",
       "      <td>527.840027</td>\n",
       "      <td>527.840027</td>\n",
       "      <td>527.840027</td>\n",
       "      <td>0.0</td>\n",
       "    </tr>\n",
       "    <tr>\n",
       "      <th>3</th>\n",
       "      <td>NYA</td>\n",
       "      <td>1966-01-05</td>\n",
       "      <td>531.119995</td>\n",
       "      <td>531.119995</td>\n",
       "      <td>531.119995</td>\n",
       "      <td>531.119995</td>\n",
       "      <td>531.119995</td>\n",
       "      <td>0.0</td>\n",
       "    </tr>\n",
       "    <tr>\n",
       "      <th>4</th>\n",
       "      <td>NYA</td>\n",
       "      <td>1966-01-06</td>\n",
       "      <td>532.070007</td>\n",
       "      <td>532.070007</td>\n",
       "      <td>532.070007</td>\n",
       "      <td>532.070007</td>\n",
       "      <td>532.070007</td>\n",
       "      <td>0.0</td>\n",
       "    </tr>\n",
       "  </tbody>\n",
       "</table>\n",
       "</div>"
      ],
      "text/plain": [
       "  Index        Date        Open        High         Low       Close  \\\n",
       "0   NYA  1965-12-31  528.690002  528.690002  528.690002  528.690002   \n",
       "1   NYA  1966-01-03  527.210022  527.210022  527.210022  527.210022   \n",
       "2   NYA  1966-01-04  527.840027  527.840027  527.840027  527.840027   \n",
       "3   NYA  1966-01-05  531.119995  531.119995  531.119995  531.119995   \n",
       "4   NYA  1966-01-06  532.070007  532.070007  532.070007  532.070007   \n",
       "\n",
       "    Adj Close  Volume  \n",
       "0  528.690002     0.0  \n",
       "1  527.210022     0.0  \n",
       "2  527.840027     0.0  \n",
       "3  531.119995     0.0  \n",
       "4  532.070007     0.0  "
      ]
     },
     "execution_count": 4,
     "metadata": {},
     "output_type": "execute_result"
    }
   ],
   "source": [
    "df.head()"
   ]
  },
  {
   "cell_type": "code",
   "execution_count": 6,
   "metadata": {},
   "outputs": [
    {
     "data": {
      "text/plain": [
       "date      0\n",
       "symbol    0\n",
       "open      0\n",
       "close     0\n",
       "low       0\n",
       "high      0\n",
       "volume    0\n",
       "dtype: int64"
      ]
     },
     "execution_count": 6,
     "metadata": {},
     "output_type": "execute_result"
    }
   ],
   "source": [
    "df2.isnull().sum()"
   ]
  },
  {
   "cell_type": "code",
   "execution_count": 7,
   "metadata": {},
   "outputs": [],
   "source": [
    "df = df.dropna()"
   ]
  },
  {
   "cell_type": "code",
   "execution_count": 8,
   "metadata": {},
   "outputs": [
    {
     "data": {
      "text/plain": [
       "Index        0\n",
       "Date         0\n",
       "Open         0\n",
       "High         0\n",
       "Low          0\n",
       "Close        0\n",
       "Adj Close    0\n",
       "Volume       0\n",
       "dtype: int64"
      ]
     },
     "execution_count": 8,
     "metadata": {},
     "output_type": "execute_result"
    }
   ],
   "source": [
    "df.isnull().sum()"
   ]
  },
  {
   "cell_type": "code",
   "execution_count": 9,
   "metadata": {},
   "outputs": [
    {
     "data": {
      "text/plain": [
       "(110253, 8)"
      ]
     },
     "execution_count": 9,
     "metadata": {},
     "output_type": "execute_result"
    }
   ],
   "source": [
    "df.shape"
   ]
  },
  {
   "cell_type": "code",
   "execution_count": 10,
   "metadata": {},
   "outputs": [
    {
     "name": "stdout",
     "output_type": "stream",
     "text": [
      "<class 'pandas.core.frame.DataFrame'>\n",
      "Index: 110253 entries, 0 to 112456\n",
      "Data columns (total 8 columns):\n",
      " #   Column     Non-Null Count   Dtype  \n",
      "---  ------     --------------   -----  \n",
      " 0   Index      110253 non-null  object \n",
      " 1   Date       110253 non-null  object \n",
      " 2   Open       110253 non-null  float64\n",
      " 3   High       110253 non-null  float64\n",
      " 4   Low        110253 non-null  float64\n",
      " 5   Close      110253 non-null  float64\n",
      " 6   Adj Close  110253 non-null  float64\n",
      " 7   Volume     110253 non-null  float64\n",
      "dtypes: float64(6), object(2)\n",
      "memory usage: 7.6+ MB\n"
     ]
    }
   ],
   "source": [
    "df.info()"
   ]
  },
  {
   "cell_type": "code",
   "execution_count": 10,
   "metadata": {},
   "outputs": [
    {
     "data": {
      "text/plain": [
       "Index\n",
       "NYA          13947\n",
       "N225         13874\n",
       "IXIC         12690\n",
       "GSPTSE       10526\n",
       "HSI           8492\n",
       "GDAXI         8438\n",
       "SSMI          7671\n",
       "KS11          6029\n",
       "TWII          5869\n",
       "000001.SS     5791\n",
       "399001.SZ     5760\n",
       "N100          5474\n",
       "NSEI          3346\n",
       "J203.JO       2346\n",
       "Name: count, dtype: int64"
      ]
     },
     "execution_count": 10,
     "metadata": {},
     "output_type": "execute_result"
    }
   ],
   "source": [
    "df['Index'].value_counts()"
   ]
  },
  {
   "cell_type": "code",
   "execution_count": 75,
   "metadata": {},
   "outputs": [],
   "source": [
    "df_nya = df[df['Index'] == 'NYA']\n",
    "df_n225 = df[df['Index'] == 'N225']"
   ]
  },
  {
   "cell_type": "code",
   "execution_count": 42,
   "metadata": {},
   "outputs": [
    {
     "data": {
      "text/plain": [
       "symbol\n",
       "KSU     1762\n",
       "NOC     1762\n",
       "ORCL    1762\n",
       "OMC     1762\n",
       "OKE     1762\n",
       "        ... \n",
       "KHC      378\n",
       "HPE      304\n",
       "CSRA     284\n",
       "WLTW     251\n",
       "FTV      126\n",
       "Name: count, Length: 501, dtype: int64"
      ]
     },
     "execution_count": 42,
     "metadata": {},
     "output_type": "execute_result"
    }
   ],
   "source": [
    "df2['symbol'].value_counts()"
   ]
  },
  {
   "cell_type": "code",
   "execution_count": null,
   "metadata": {},
   "outputs": [],
   "source": [
    "df_n225"
   ]
  },
  {
   "cell_type": "code",
   "execution_count": 35,
   "metadata": {},
   "outputs": [
    {
     "name": "stderr",
     "output_type": "stream",
     "text": [
      "C:\\Users\\gibso\\AppData\\Local\\Temp\\ipykernel_10880\\377973849.py:1: SettingWithCopyWarning: \n",
      "A value is trying to be set on a copy of a slice from a DataFrame.\n",
      "Try using .loc[row_indexer,col_indexer] = value instead\n",
      "\n",
      "See the caveats in the documentation: https://pandas.pydata.org/pandas-docs/stable/user_guide/indexing.html#returning-a-view-versus-a-copy\n",
      "  df_nya['Date'] = pd.to_datetime(df_nya['Date'])\n"
     ]
    }
   ],
   "source": [
    "df_nya['Date'] = pd.to_datetime(df_nya['Date'])\n",
    "df_nya_2003_onwards = df_nya[df_nya['Date'] >= '2003-01-01']"
   ]
  },
  {
   "cell_type": "code",
   "execution_count": 126,
   "metadata": {},
   "outputs": [],
   "source": [
    "X = df_nya_2003_onwards.drop(['Date', 'Index', 'Adj Close', 'Close', 'Open', 'High', 'Volume'], axis=1)\n",
    "y = df_nya_2003_onwards['Adj Close']\n",
    "X_train, X_test, y_train, y_test = train_test_split(X, y, test_size=0.2, random_state=42)"
   ]
  },
  {
   "cell_type": "code",
   "execution_count": null,
   "metadata": {},
   "outputs": [],
   "source": [
    "X3 = df2.drop(['date', 'symbol','close', 'Daily Return'], axis=1)\n",
    "y3 = df2['Daily Return']\n",
    "X_train3, X_test3, y_train3, y_test3 = train_test_split(X3, y3, test_size=0.2, random_state=42)"
   ]
  },
  {
   "cell_type": "code",
   "execution_count": 56,
   "metadata": {},
   "outputs": [],
   "source": [
    "model = LinearRegression()"
   ]
  },
  {
   "cell_type": "code",
   "execution_count": null,
   "metadata": {},
   "outputs": [],
   "source": [
    "grid = GridSearchCV(\n",
    "    model,\n",
    "    param_grid={},``\n",
    "    cv=5,\n",
    "    scoring='r2'\n",
    ")"
   ]
  },
  {
   "cell_type": "code",
   "execution_count": 15,
   "metadata": {},
   "outputs": [],
   "source": [
    "grid.fit(X_train, y_train)\n",
    "best_model = grid.best_estimator_"
   ]
  },
  {
   "cell_type": "code",
   "execution_count": 16,
   "metadata": {},
   "outputs": [],
   "source": [
    "def evaluate_model(model, X_test, y_test, name):\n",
    "    y_pred = model.predict(X_test)\n",
    "    mae = mean_absolute_error(y_test, y_pred)\n",
    "    mse = mean_squared_error(y_test, y_pred)\n",
    "    rmse = np.sqrt(mse)\n",
    "    r2 = r2_score(y_test, y_pred)\n",
    "    print(f\"--- {name} ---\")\n",
    "    print(f\"Mean Absolute Error (MAE): {mae:.3f}\")\n",
    "    print(f\"Mean Squared Error (MSE): {mse:.3f}\")\n",
    "    print(f\"Root Mean Squared Error (RMSE): {rmse:.3f}\")\n",
    "    print(f\"R^2 Score: {r2:.3f}\")\n",
    "    print()\n"
   ]
  },
  {
   "cell_type": "code",
   "execution_count": 17,
   "metadata": {},
   "outputs": [
    {
     "name": "stdout",
     "output_type": "stream",
     "text": [
      "--- Linear Regression ---\n",
      "Mean Absolute Error (MAE): 0.698\n",
      "Mean Squared Error (MSE): 2.135\n",
      "Root Mean Squared Error (RMSE): 1.461\n",
      "R^2 Score: 1.000\n",
      "\n"
     ]
    }
   ],
   "source": [
    "evaluate_model(best_model, X_test, y_test, \"Linear Regression\")"
   ]
  },
  {
   "cell_type": "code",
   "execution_count": 59,
   "metadata": {},
   "outputs": [
    {
     "ename": "ValueError",
     "evalue": "could not convert string to float: '2012-09-19'",
     "output_type": "error",
     "traceback": [
      "\u001b[1;31m---------------------------------------------------------------------------\u001b[0m",
      "\u001b[1;31mValueError\u001b[0m                                Traceback (most recent call last)",
      "\u001b[1;32m~\\AppData\\Local\\Temp\\ipykernel_5480\\2660300020.py\u001b[0m in \u001b[0;36m?\u001b[1;34m()\u001b[0m\n\u001b[1;32m----> 1\u001b[1;33m \u001b[0mmodel\u001b[0m\u001b[1;33m.\u001b[0m\u001b[0mfit\u001b[0m\u001b[1;33m(\u001b[0m\u001b[0mX_train3\u001b[0m\u001b[1;33m,\u001b[0m \u001b[0my_train3\u001b[0m\u001b[1;33m)\u001b[0m\u001b[1;33m\u001b[0m\u001b[1;33m\u001b[0m\u001b[0m\n\u001b[0m\u001b[0;32m      2\u001b[0m \u001b[0mevaluate_model\u001b[0m\u001b[1;33m(\u001b[0m\u001b[0mmodel\u001b[0m\u001b[1;33m,\u001b[0m \u001b[0mX_test3\u001b[0m\u001b[1;33m,\u001b[0m \u001b[0my_test3\u001b[0m\u001b[1;33m,\u001b[0m \u001b[1;34m\"Linear Regression\"\u001b[0m\u001b[1;33m)\u001b[0m\u001b[1;33m\u001b[0m\u001b[1;33m\u001b[0m\u001b[0m\n",
      "\u001b[1;32mc:\\Users\\gibso\\AppData\\Local\\Programs\\Python\\Python312\\Lib\\site-packages\\sklearn\\base.py\u001b[0m in \u001b[0;36m?\u001b[1;34m(estimator, *args, **kwargs)\u001b[0m\n\u001b[0;32m   1469\u001b[0m                 skip_parameter_validation=(\n\u001b[0;32m   1470\u001b[0m                     \u001b[0mprefer_skip_nested_validation\u001b[0m \u001b[1;32mor\u001b[0m \u001b[0mglobal_skip_validation\u001b[0m\u001b[1;33m\u001b[0m\u001b[1;33m\u001b[0m\u001b[0m\n\u001b[0;32m   1471\u001b[0m                 \u001b[1;33m)\u001b[0m\u001b[1;33m\u001b[0m\u001b[1;33m\u001b[0m\u001b[0m\n\u001b[0;32m   1472\u001b[0m             \u001b[1;33m)\u001b[0m\u001b[1;33m:\u001b[0m\u001b[1;33m\u001b[0m\u001b[1;33m\u001b[0m\u001b[0m\n\u001b[1;32m-> 1473\u001b[1;33m                 \u001b[1;32mreturn\u001b[0m \u001b[0mfit_method\u001b[0m\u001b[1;33m(\u001b[0m\u001b[0mestimator\u001b[0m\u001b[1;33m,\u001b[0m \u001b[1;33m*\u001b[0m\u001b[0margs\u001b[0m\u001b[1;33m,\u001b[0m \u001b[1;33m**\u001b[0m\u001b[0mkwargs\u001b[0m\u001b[1;33m)\u001b[0m\u001b[1;33m\u001b[0m\u001b[1;33m\u001b[0m\u001b[0m\n\u001b[0m",
      "\u001b[1;32mc:\\Users\\gibso\\AppData\\Local\\Programs\\Python\\Python312\\Lib\\site-packages\\sklearn\\linear_model\\_base.py\u001b[0m in \u001b[0;36m?\u001b[1;34m(self, X, y, sample_weight)\u001b[0m\n\u001b[0;32m    605\u001b[0m         \u001b[0mn_jobs_\u001b[0m \u001b[1;33m=\u001b[0m \u001b[0mself\u001b[0m\u001b[1;33m.\u001b[0m\u001b[0mn_jobs\u001b[0m\u001b[1;33m\u001b[0m\u001b[1;33m\u001b[0m\u001b[0m\n\u001b[0;32m    606\u001b[0m \u001b[1;33m\u001b[0m\u001b[0m\n\u001b[0;32m    607\u001b[0m         \u001b[0maccept_sparse\u001b[0m \u001b[1;33m=\u001b[0m \u001b[1;32mFalse\u001b[0m \u001b[1;32mif\u001b[0m \u001b[0mself\u001b[0m\u001b[1;33m.\u001b[0m\u001b[0mpositive\u001b[0m \u001b[1;32melse\u001b[0m \u001b[1;33m[\u001b[0m\u001b[1;34m\"csr\"\u001b[0m\u001b[1;33m,\u001b[0m \u001b[1;34m\"csc\"\u001b[0m\u001b[1;33m,\u001b[0m \u001b[1;34m\"coo\"\u001b[0m\u001b[1;33m]\u001b[0m\u001b[1;33m\u001b[0m\u001b[1;33m\u001b[0m\u001b[0m\n\u001b[0;32m    608\u001b[0m \u001b[1;33m\u001b[0m\u001b[0m\n\u001b[1;32m--> 609\u001b[1;33m         X, y = self._validate_data(\n\u001b[0m\u001b[0;32m    610\u001b[0m             \u001b[0mX\u001b[0m\u001b[1;33m,\u001b[0m\u001b[1;33m\u001b[0m\u001b[1;33m\u001b[0m\u001b[0m\n\u001b[0;32m    611\u001b[0m             \u001b[0my\u001b[0m\u001b[1;33m,\u001b[0m\u001b[1;33m\u001b[0m\u001b[1;33m\u001b[0m\u001b[0m\n\u001b[0;32m    612\u001b[0m             \u001b[0maccept_sparse\u001b[0m\u001b[1;33m=\u001b[0m\u001b[0maccept_sparse\u001b[0m\u001b[1;33m,\u001b[0m\u001b[1;33m\u001b[0m\u001b[1;33m\u001b[0m\u001b[0m\n",
      "\u001b[1;32mc:\\Users\\gibso\\AppData\\Local\\Programs\\Python\\Python312\\Lib\\site-packages\\sklearn\\base.py\u001b[0m in \u001b[0;36m?\u001b[1;34m(self, X, y, reset, validate_separately, cast_to_ndarray, **check_params)\u001b[0m\n\u001b[0;32m    646\u001b[0m                 \u001b[1;32mif\u001b[0m \u001b[1;34m\"estimator\"\u001b[0m \u001b[1;32mnot\u001b[0m \u001b[1;32min\u001b[0m \u001b[0mcheck_y_params\u001b[0m\u001b[1;33m:\u001b[0m\u001b[1;33m\u001b[0m\u001b[1;33m\u001b[0m\u001b[0m\n\u001b[0;32m    647\u001b[0m                     \u001b[0mcheck_y_params\u001b[0m \u001b[1;33m=\u001b[0m \u001b[1;33m{\u001b[0m\u001b[1;33m**\u001b[0m\u001b[0mdefault_check_params\u001b[0m\u001b[1;33m,\u001b[0m \u001b[1;33m**\u001b[0m\u001b[0mcheck_y_params\u001b[0m\u001b[1;33m}\u001b[0m\u001b[1;33m\u001b[0m\u001b[1;33m\u001b[0m\u001b[0m\n\u001b[0;32m    648\u001b[0m                 \u001b[0my\u001b[0m \u001b[1;33m=\u001b[0m \u001b[0mcheck_array\u001b[0m\u001b[1;33m(\u001b[0m\u001b[0my\u001b[0m\u001b[1;33m,\u001b[0m \u001b[0minput_name\u001b[0m\u001b[1;33m=\u001b[0m\u001b[1;34m\"y\"\u001b[0m\u001b[1;33m,\u001b[0m \u001b[1;33m**\u001b[0m\u001b[0mcheck_y_params\u001b[0m\u001b[1;33m)\u001b[0m\u001b[1;33m\u001b[0m\u001b[1;33m\u001b[0m\u001b[0m\n\u001b[0;32m    649\u001b[0m             \u001b[1;32melse\u001b[0m\u001b[1;33m:\u001b[0m\u001b[1;33m\u001b[0m\u001b[1;33m\u001b[0m\u001b[0m\n\u001b[1;32m--> 650\u001b[1;33m                 \u001b[0mX\u001b[0m\u001b[1;33m,\u001b[0m \u001b[0my\u001b[0m \u001b[1;33m=\u001b[0m \u001b[0mcheck_X_y\u001b[0m\u001b[1;33m(\u001b[0m\u001b[0mX\u001b[0m\u001b[1;33m,\u001b[0m \u001b[0my\u001b[0m\u001b[1;33m,\u001b[0m \u001b[1;33m**\u001b[0m\u001b[0mcheck_params\u001b[0m\u001b[1;33m)\u001b[0m\u001b[1;33m\u001b[0m\u001b[1;33m\u001b[0m\u001b[0m\n\u001b[0m\u001b[0;32m    651\u001b[0m             \u001b[0mout\u001b[0m \u001b[1;33m=\u001b[0m \u001b[0mX\u001b[0m\u001b[1;33m,\u001b[0m \u001b[0my\u001b[0m\u001b[1;33m\u001b[0m\u001b[1;33m\u001b[0m\u001b[0m\n\u001b[0;32m    652\u001b[0m \u001b[1;33m\u001b[0m\u001b[0m\n\u001b[0;32m    653\u001b[0m         \u001b[1;32mif\u001b[0m \u001b[1;32mnot\u001b[0m \u001b[0mno_val_X\u001b[0m \u001b[1;32mand\u001b[0m \u001b[0mcheck_params\u001b[0m\u001b[1;33m.\u001b[0m\u001b[0mget\u001b[0m\u001b[1;33m(\u001b[0m\u001b[1;34m\"ensure_2d\"\u001b[0m\u001b[1;33m,\u001b[0m \u001b[1;32mTrue\u001b[0m\u001b[1;33m)\u001b[0m\u001b[1;33m:\u001b[0m\u001b[1;33m\u001b[0m\u001b[1;33m\u001b[0m\u001b[0m\n",
      "\u001b[1;32mc:\\Users\\gibso\\AppData\\Local\\Programs\\Python\\Python312\\Lib\\site-packages\\sklearn\\utils\\validation.py\u001b[0m in \u001b[0;36m?\u001b[1;34m(X, y, accept_sparse, accept_large_sparse, dtype, order, copy, force_writeable, force_all_finite, ensure_2d, allow_nd, multi_output, ensure_min_samples, ensure_min_features, y_numeric, estimator)\u001b[0m\n\u001b[0;32m   1297\u001b[0m         raise ValueError(\n\u001b[0;32m   1298\u001b[0m             \u001b[1;33mf\"\u001b[0m\u001b[1;33m{\u001b[0m\u001b[0mestimator_name\u001b[0m\u001b[1;33m}\u001b[0m\u001b[1;33m requires y to be passed, but the target y is None\u001b[0m\u001b[1;33m\"\u001b[0m\u001b[1;33m\u001b[0m\u001b[1;33m\u001b[0m\u001b[0m\n\u001b[0;32m   1299\u001b[0m         \u001b[1;33m)\u001b[0m\u001b[1;33m\u001b[0m\u001b[1;33m\u001b[0m\u001b[0m\n\u001b[0;32m   1300\u001b[0m \u001b[1;33m\u001b[0m\u001b[0m\n\u001b[1;32m-> 1301\u001b[1;33m     X = check_array(\n\u001b[0m\u001b[0;32m   1302\u001b[0m         \u001b[0mX\u001b[0m\u001b[1;33m,\u001b[0m\u001b[1;33m\u001b[0m\u001b[1;33m\u001b[0m\u001b[0m\n\u001b[0;32m   1303\u001b[0m         \u001b[0maccept_sparse\u001b[0m\u001b[1;33m=\u001b[0m\u001b[0maccept_sparse\u001b[0m\u001b[1;33m,\u001b[0m\u001b[1;33m\u001b[0m\u001b[1;33m\u001b[0m\u001b[0m\n\u001b[0;32m   1304\u001b[0m         \u001b[0maccept_large_sparse\u001b[0m\u001b[1;33m=\u001b[0m\u001b[0maccept_large_sparse\u001b[0m\u001b[1;33m,\u001b[0m\u001b[1;33m\u001b[0m\u001b[1;33m\u001b[0m\u001b[0m\n",
      "\u001b[1;32mc:\\Users\\gibso\\AppData\\Local\\Programs\\Python\\Python312\\Lib\\site-packages\\sklearn\\utils\\validation.py\u001b[0m in \u001b[0;36m?\u001b[1;34m(array, accept_sparse, accept_large_sparse, dtype, order, copy, force_writeable, force_all_finite, ensure_2d, allow_nd, ensure_min_samples, ensure_min_features, estimator, input_name)\u001b[0m\n\u001b[0;32m   1009\u001b[0m                         \u001b[1;33m)\u001b[0m\u001b[1;33m\u001b[0m\u001b[1;33m\u001b[0m\u001b[0m\n\u001b[0;32m   1010\u001b[0m                     \u001b[0marray\u001b[0m \u001b[1;33m=\u001b[0m \u001b[0mxp\u001b[0m\u001b[1;33m.\u001b[0m\u001b[0mastype\u001b[0m\u001b[1;33m(\u001b[0m\u001b[0marray\u001b[0m\u001b[1;33m,\u001b[0m \u001b[0mdtype\u001b[0m\u001b[1;33m,\u001b[0m \u001b[0mcopy\u001b[0m\u001b[1;33m=\u001b[0m\u001b[1;32mFalse\u001b[0m\u001b[1;33m)\u001b[0m\u001b[1;33m\u001b[0m\u001b[1;33m\u001b[0m\u001b[0m\n\u001b[0;32m   1011\u001b[0m                 \u001b[1;32melse\u001b[0m\u001b[1;33m:\u001b[0m\u001b[1;33m\u001b[0m\u001b[1;33m\u001b[0m\u001b[0m\n\u001b[0;32m   1012\u001b[0m                     \u001b[0marray\u001b[0m \u001b[1;33m=\u001b[0m \u001b[0m_asarray_with_order\u001b[0m\u001b[1;33m(\u001b[0m\u001b[0marray\u001b[0m\u001b[1;33m,\u001b[0m \u001b[0morder\u001b[0m\u001b[1;33m=\u001b[0m\u001b[0morder\u001b[0m\u001b[1;33m,\u001b[0m \u001b[0mdtype\u001b[0m\u001b[1;33m=\u001b[0m\u001b[0mdtype\u001b[0m\u001b[1;33m,\u001b[0m \u001b[0mxp\u001b[0m\u001b[1;33m=\u001b[0m\u001b[0mxp\u001b[0m\u001b[1;33m)\u001b[0m\u001b[1;33m\u001b[0m\u001b[1;33m\u001b[0m\u001b[0m\n\u001b[1;32m-> 1013\u001b[1;33m             \u001b[1;32mexcept\u001b[0m \u001b[0mComplexWarning\u001b[0m \u001b[1;32mas\u001b[0m \u001b[0mcomplex_warning\u001b[0m\u001b[1;33m:\u001b[0m\u001b[1;33m\u001b[0m\u001b[1;33m\u001b[0m\u001b[0m\n\u001b[0m\u001b[0;32m   1014\u001b[0m                 raise ValueError(\n\u001b[0;32m   1015\u001b[0m                     \u001b[1;34m\"Complex data not supported\\n{}\\n\"\u001b[0m\u001b[1;33m.\u001b[0m\u001b[0mformat\u001b[0m\u001b[1;33m(\u001b[0m\u001b[0marray\u001b[0m\u001b[1;33m)\u001b[0m\u001b[1;33m\u001b[0m\u001b[1;33m\u001b[0m\u001b[0m\n\u001b[0;32m   1016\u001b[0m                 \u001b[1;33m)\u001b[0m \u001b[1;32mfrom\u001b[0m \u001b[0mcomplex_warning\u001b[0m\u001b[1;33m\u001b[0m\u001b[1;33m\u001b[0m\u001b[0m\n",
      "\u001b[1;32mc:\\Users\\gibso\\AppData\\Local\\Programs\\Python\\Python312\\Lib\\site-packages\\sklearn\\utils\\_array_api.py\u001b[0m in \u001b[0;36m?\u001b[1;34m(array, dtype, order, copy, xp, device)\u001b[0m\n\u001b[0;32m    741\u001b[0m         \u001b[1;31m# Use NumPy API to support order\u001b[0m\u001b[1;33m\u001b[0m\u001b[1;33m\u001b[0m\u001b[0m\n\u001b[0;32m    742\u001b[0m         \u001b[1;32mif\u001b[0m \u001b[0mcopy\u001b[0m \u001b[1;32mis\u001b[0m \u001b[1;32mTrue\u001b[0m\u001b[1;33m:\u001b[0m\u001b[1;33m\u001b[0m\u001b[1;33m\u001b[0m\u001b[0m\n\u001b[0;32m    743\u001b[0m             \u001b[0marray\u001b[0m \u001b[1;33m=\u001b[0m \u001b[0mnumpy\u001b[0m\u001b[1;33m.\u001b[0m\u001b[0marray\u001b[0m\u001b[1;33m(\u001b[0m\u001b[0marray\u001b[0m\u001b[1;33m,\u001b[0m \u001b[0morder\u001b[0m\u001b[1;33m=\u001b[0m\u001b[0morder\u001b[0m\u001b[1;33m,\u001b[0m \u001b[0mdtype\u001b[0m\u001b[1;33m=\u001b[0m\u001b[0mdtype\u001b[0m\u001b[1;33m)\u001b[0m\u001b[1;33m\u001b[0m\u001b[1;33m\u001b[0m\u001b[0m\n\u001b[0;32m    744\u001b[0m         \u001b[1;32melse\u001b[0m\u001b[1;33m:\u001b[0m\u001b[1;33m\u001b[0m\u001b[1;33m\u001b[0m\u001b[0m\n\u001b[1;32m--> 745\u001b[1;33m             \u001b[0marray\u001b[0m \u001b[1;33m=\u001b[0m \u001b[0mnumpy\u001b[0m\u001b[1;33m.\u001b[0m\u001b[0masarray\u001b[0m\u001b[1;33m(\u001b[0m\u001b[0marray\u001b[0m\u001b[1;33m,\u001b[0m \u001b[0morder\u001b[0m\u001b[1;33m=\u001b[0m\u001b[0morder\u001b[0m\u001b[1;33m,\u001b[0m \u001b[0mdtype\u001b[0m\u001b[1;33m=\u001b[0m\u001b[0mdtype\u001b[0m\u001b[1;33m)\u001b[0m\u001b[1;33m\u001b[0m\u001b[1;33m\u001b[0m\u001b[0m\n\u001b[0m\u001b[0;32m    746\u001b[0m \u001b[1;33m\u001b[0m\u001b[0m\n\u001b[0;32m    747\u001b[0m         \u001b[1;31m# At this point array is a NumPy ndarray. We convert it to an array\u001b[0m\u001b[1;33m\u001b[0m\u001b[1;33m\u001b[0m\u001b[0m\n\u001b[0;32m    748\u001b[0m         \u001b[1;31m# container that is consistent with the input's namespace.\u001b[0m\u001b[1;33m\u001b[0m\u001b[1;33m\u001b[0m\u001b[0m\n",
      "\u001b[1;32mc:\\Users\\gibso\\AppData\\Local\\Programs\\Python\\Python312\\Lib\\site-packages\\pandas\\core\\generic.py\u001b[0m in \u001b[0;36m?\u001b[1;34m(self, dtype, copy)\u001b[0m\n\u001b[0;32m   2149\u001b[0m     def __array__(\n\u001b[0;32m   2150\u001b[0m         \u001b[0mself\u001b[0m\u001b[1;33m,\u001b[0m \u001b[0mdtype\u001b[0m\u001b[1;33m:\u001b[0m \u001b[0mnpt\u001b[0m\u001b[1;33m.\u001b[0m\u001b[0mDTypeLike\u001b[0m \u001b[1;33m|\u001b[0m \u001b[1;32mNone\u001b[0m \u001b[1;33m=\u001b[0m \u001b[1;32mNone\u001b[0m\u001b[1;33m,\u001b[0m \u001b[0mcopy\u001b[0m\u001b[1;33m:\u001b[0m \u001b[0mbool_t\u001b[0m \u001b[1;33m|\u001b[0m \u001b[1;32mNone\u001b[0m \u001b[1;33m=\u001b[0m \u001b[1;32mNone\u001b[0m\u001b[1;33m\u001b[0m\u001b[1;33m\u001b[0m\u001b[0m\n\u001b[0;32m   2151\u001b[0m     \u001b[1;33m)\u001b[0m \u001b[1;33m->\u001b[0m \u001b[0mnp\u001b[0m\u001b[1;33m.\u001b[0m\u001b[0mndarray\u001b[0m\u001b[1;33m:\u001b[0m\u001b[1;33m\u001b[0m\u001b[1;33m\u001b[0m\u001b[0m\n\u001b[0;32m   2152\u001b[0m         \u001b[0mvalues\u001b[0m \u001b[1;33m=\u001b[0m \u001b[0mself\u001b[0m\u001b[1;33m.\u001b[0m\u001b[0m_values\u001b[0m\u001b[1;33m\u001b[0m\u001b[1;33m\u001b[0m\u001b[0m\n\u001b[1;32m-> 2153\u001b[1;33m         \u001b[0marr\u001b[0m \u001b[1;33m=\u001b[0m \u001b[0mnp\u001b[0m\u001b[1;33m.\u001b[0m\u001b[0masarray\u001b[0m\u001b[1;33m(\u001b[0m\u001b[0mvalues\u001b[0m\u001b[1;33m,\u001b[0m \u001b[0mdtype\u001b[0m\u001b[1;33m=\u001b[0m\u001b[0mdtype\u001b[0m\u001b[1;33m)\u001b[0m\u001b[1;33m\u001b[0m\u001b[1;33m\u001b[0m\u001b[0m\n\u001b[0m\u001b[0;32m   2154\u001b[0m         if (\n\u001b[0;32m   2155\u001b[0m             \u001b[0mastype_is_view\u001b[0m\u001b[1;33m(\u001b[0m\u001b[0mvalues\u001b[0m\u001b[1;33m.\u001b[0m\u001b[0mdtype\u001b[0m\u001b[1;33m,\u001b[0m \u001b[0marr\u001b[0m\u001b[1;33m.\u001b[0m\u001b[0mdtype\u001b[0m\u001b[1;33m)\u001b[0m\u001b[1;33m\u001b[0m\u001b[1;33m\u001b[0m\u001b[0m\n\u001b[0;32m   2156\u001b[0m             \u001b[1;32mand\u001b[0m \u001b[0musing_copy_on_write\u001b[0m\u001b[1;33m(\u001b[0m\u001b[1;33m)\u001b[0m\u001b[1;33m\u001b[0m\u001b[1;33m\u001b[0m\u001b[0m\n",
      "\u001b[1;31mValueError\u001b[0m: could not convert string to float: '2012-09-19'"
     ]
    }
   ],
   "source": [
    "model.fit(X_train3, y_train3)\n",
    "evaluate_model(model, X_test3, y_test3, \"Linear Regression\")"
   ]
  },
  {
   "cell_type": "code",
   "execution_count": 18,
   "metadata": {},
   "outputs": [],
   "source": [
    "cheap = df2[df2['open'] < 10]"
   ]
  },
  {
   "cell_type": "code",
   "execution_count": 19,
   "metadata": {},
   "outputs": [
    {
     "data": {
      "text/plain": [
       "(13863, 7)"
      ]
     },
     "execution_count": 19,
     "metadata": {},
     "output_type": "execute_result"
    }
   ],
   "source": [
    "cheap.shape"
   ]
  },
  {
   "cell_type": "code",
   "execution_count": null,
   "metadata": {},
   "outputs": [],
   "source": []
  },
  {
   "cell_type": "code",
   "execution_count": 24,
   "metadata": {},
   "outputs": [],
   "source": [
    "X = cheap.drop(['date', 'symbol', 'close', 'high', 'low'], axis=1)\n",
    "y = cheap['close']\n",
    "X_train2, X_test2, y_train2, y_test2 = train_test_split(X, y, test_size=0.2, random_state=42)"
   ]
  },
  {
   "cell_type": "code",
   "execution_count": 25,
   "metadata": {},
   "outputs": [],
   "source": [
    "model.fit(X_train2, y_train2)\n",
    "y_pred2 = model.predict(X_test2)"
   ]
  },
  {
   "cell_type": "code",
   "execution_count": 34,
   "metadata": {},
   "outputs": [],
   "source": [
    "a, b = np.polyfit(cheap['open'], cheap['close'], 1)"
   ]
  },
  {
   "cell_type": "code",
   "execution_count": 36,
   "metadata": {},
   "outputs": [
    {
     "data": {
      "image/png": "[encoded data removed]",
      "text/plain": [
       "<Figure size 640x480 with 1 Axes>"
      ]
     },
     "metadata": {},
     "output_type": "display_data"
    }
   ],
   "source": [
    "plt.scatter(cheap['open'], cheap['close'])\n",
    "plt.xlabel('Open')\n",
    "plt.ylabel('Close')\n",
    "plt.plot(cheap['open'], a * cheap['open'] + b, color='red')  # Line of best fit\n",
    "plt.show()"
   ]
  },
  {
   "cell_type": "code",
   "execution_count": 37,
   "metadata": {},
   "outputs": [
    {
     "data": {
      "text/plain": [
       "count    1.386300e+04\n",
       "mean    -1.120221e-14\n",
       "std      1.803464e-01\n",
       "min     -1.272375e+00\n",
       "25%     -8.305774e-02\n",
       "50%     -1.831860e-03\n",
       "75%      8.689877e-02\n",
       "max      1.557503e+00\n",
       "dtype: float64"
      ]
     },
     "execution_count": 37,
     "metadata": {},
     "output_type": "execute_result"
    }
   ],
   "source": [
    "differences = cheap['close'] - (a * cheap['open'] + b)\n",
    "differences.describe()"
   ]
  },
  {
   "cell_type": "code",
   "execution_count": 52,
   "metadata": {},
   "outputs": [
    {
     "data": {
      "application/vnd.microsoft.datawrangler.viewer.v0+json": {
       "columns": [
        {
         "name": "index",
         "rawType": "object",
         "type": "string"
        },
        {
         "name": "open",
         "rawType": "float64",
         "type": "float"
        },
        {
         "name": "close",
         "rawType": "float64",
         "type": "float"
        },
        {
         "name": "low",
         "rawType": "float64",
         "type": "float"
        },
        {
         "name": "high",
         "rawType": "float64",
         "type": "float"
        },
        {
         "name": "volume",
         "rawType": "float64",
         "type": "float"
        },
        {
         "name": "Daily Return",
         "rawType": "float64",
         "type": "float"
        }
       ],
       "conversionMethod": "pd.DataFrame",
       "ref": "cee9443b-1318-433c-8739-d6008f03c81d",
       "rows": [
        [
         "open",
         "1.0",
         "0.9998485438513841",
         "0.9999155387844912",
         "0.9999301422892222",
         "-0.05995021954343943",
         "-0.01295156574323731"
        ],
        [
         "close",
         "0.9998485438513841",
         "1.0",
         "0.9999282789407213",
         "0.999927457546554",
         "-0.06015373352335494",
         "0.0044526529079449186"
        ],
        [
         "low",
         "0.9999155387844912",
         "0.9999282789407213",
         "1.0",
         "0.9998924813261822",
         "-0.06076010508859051",
         "-0.003517444186098999"
        ],
        [
         "high",
         "0.9999301422892222",
         "0.999927457546554",
         "0.9998924813261822",
         "1.0",
         "-0.059452258373625805",
         "-0.004403731029969408"
        ],
        [
         "volume",
         "-0.05995021954343943",
         "-0.06015373352335494",
         "-0.06076010508859051",
         "-0.059452258373625805",
         "1.0",
         "-0.011437951913324447"
        ],
        [
         "Daily Return",
         "-0.01295156574323731",
         "0.0044526529079449186",
         "-0.003517444186098999",
         "-0.004403731029969408",
         "-0.011437951913324447",
         "1.0"
        ]
       ],
       "shape": {
        "columns": 6,
        "rows": 6
       }
      },
      "text/html": [
       "<div>\n",
       "<style scoped>\n",
       "    .dataframe tbody tr th:only-of-type {\n",
       "        vertical-align: middle;\n",
       "    }\n",
       "\n",
       "    .dataframe tbody tr th {\n",
       "        vertical-align: top;\n",
       "    }\n",
       "\n",
       "    .dataframe thead th {\n",
       "        text-align: right;\n",
       "    }\n",
       "</style>\n",
       "<table border=\"1\" class=\"dataframe\">\n",
       "  <thead>\n",
       "    <tr style=\"text-align: right;\">\n",
       "      <th></th>\n",
       "      <th>open</th>\n",
       "      <th>close</th>\n",
       "      <th>low</th>\n",
       "      <th>high</th>\n",
       "      <th>volume</th>\n",
       "      <th>Daily Return</th>\n",
       "    </tr>\n",
       "  </thead>\n",
       "  <tbody>\n",
       "    <tr>\n",
       "      <th>open</th>\n",
       "      <td>1.000000</td>\n",
       "      <td>0.999849</td>\n",
       "      <td>0.999916</td>\n",
       "      <td>0.999930</td>\n",
       "      <td>-0.059950</td>\n",
       "      <td>-0.012952</td>\n",
       "    </tr>\n",
       "    <tr>\n",
       "      <th>close</th>\n",
       "      <td>0.999849</td>\n",
       "      <td>1.000000</td>\n",
       "      <td>0.999928</td>\n",
       "      <td>0.999927</td>\n",
       "      <td>-0.060154</td>\n",
       "      <td>0.004453</td>\n",
       "    </tr>\n",
       "    <tr>\n",
       "      <th>low</th>\n",
       "      <td>0.999916</td>\n",
       "      <td>0.999928</td>\n",
       "      <td>1.000000</td>\n",
       "      <td>0.999892</td>\n",
       "      <td>-0.060760</td>\n",
       "      <td>-0.003517</td>\n",
       "    </tr>\n",
       "    <tr>\n",
       "      <th>high</th>\n",
       "      <td>0.999930</td>\n",
       "      <td>0.999927</td>\n",
       "      <td>0.999892</td>\n",
       "      <td>1.000000</td>\n",
       "      <td>-0.059452</td>\n",
       "      <td>-0.004404</td>\n",
       "    </tr>\n",
       "    <tr>\n",
       "      <th>volume</th>\n",
       "      <td>-0.059950</td>\n",
       "      <td>-0.060154</td>\n",
       "      <td>-0.060760</td>\n",
       "      <td>-0.059452</td>\n",
       "      <td>1.000000</td>\n",
       "      <td>-0.011438</td>\n",
       "    </tr>\n",
       "    <tr>\n",
       "      <th>Daily Return</th>\n",
       "      <td>-0.012952</td>\n",
       "      <td>0.004453</td>\n",
       "      <td>-0.003517</td>\n",
       "      <td>-0.004404</td>\n",
       "      <td>-0.011438</td>\n",
       "      <td>1.000000</td>\n",
       "    </tr>\n",
       "  </tbody>\n",
       "</table>\n",
       "</div>"
      ],
      "text/plain": [
       "                  open     close       low      high    volume  Daily Return\n",
       "open          1.000000  0.999849  0.999916  0.999930 -0.059950     -0.012952\n",
       "close         0.999849  1.000000  0.999928  0.999927 -0.060154      0.004453\n",
       "low           0.999916  0.999928  1.000000  0.999892 -0.060760     -0.003517\n",
       "high          0.999930  0.999927  0.999892  1.000000 -0.059452     -0.004404\n",
       "volume       -0.059950 -0.060154 -0.060760 -0.059452  1.000000     -0.011438\n",
       "Daily Return -0.012952  0.004453 -0.003517 -0.004404 -0.011438      1.000000"
      ]
     },
     "execution_count": 52,
     "metadata": {},
     "output_type": "execute_result"
    }
   ],
   "source": [
    "test = df2.drop(['date', 'symbol'], axis=1)\n",
    "test.corr()"
   ]
  },
  {
   "cell_type": "markdown",
   "metadata": {},
   "source": [
    "Daily Return = (Close - Open) / Open"
   ]
  },
  {
   "cell_type": "code",
   "execution_count": null,
   "metadata": {},
   "outputs": [],
   "source": []
  },
  {
   "cell_type": "code",
   "execution_count": 44,
   "metadata": {},
   "outputs": [
    {
     "data": {
      "application/vnd.microsoft.datawrangler.viewer.v0+json": {
       "columns": [
        {
         "name": "index",
         "rawType": "int64",
         "type": "integer"
        },
        {
         "name": "date",
         "rawType": "object",
         "type": "string"
        },
        {
         "name": "symbol",
         "rawType": "object",
         "type": "string"
        },
        {
         "name": "open",
         "rawType": "float64",
         "type": "float"
        },
        {
         "name": "close",
         "rawType": "float64",
         "type": "float"
        },
        {
         "name": "low",
         "rawType": "float64",
         "type": "float"
        },
        {
         "name": "high",
         "rawType": "float64",
         "type": "float"
        },
        {
         "name": "volume",
         "rawType": "float64",
         "type": "float"
        },
        {
         "name": "Daily Return",
         "rawType": "float64",
         "type": "float"
        }
       ],
       "conversionMethod": "pd.DataFrame",
       "ref": "cad7e30c-3d95-49e8-b381-9e4e5e711f25",
       "rows": [
        [
         "0",
         "2016-01-05 00:00:00",
         "WLTW",
         "123.43",
         "125.839996",
         "122.309998",
         "126.25",
         "2163600.0",
         "2.4099959999999925"
        ],
        [
         "1",
         "2016-01-06 00:00:00",
         "WLTW",
         "125.239998",
         "119.980003",
         "119.940002",
         "125.540001",
         "2386400.0",
         "-5.2599950000000035"
        ],
        [
         "2",
         "2016-01-07 00:00:00",
         "WLTW",
         "116.379997",
         "114.949997",
         "114.93",
         "119.739998",
         "2489500.0",
         "-1.4300000000000068"
        ],
        [
         "3",
         "2016-01-08 00:00:00",
         "WLTW",
         "115.480003",
         "116.620003",
         "113.5",
         "117.440002",
         "2006300.0",
         "1.1400000000000006"
        ],
        [
         "4",
         "2016-01-11 00:00:00",
         "WLTW",
         "117.010002",
         "114.970001",
         "114.089996",
         "117.330002",
         "1408600.0",
         "-2.0400010000000037"
        ],
        [
         "5",
         "2016-01-12 00:00:00",
         "WLTW",
         "115.510002",
         "115.550003",
         "114.5",
         "116.059998",
         "1098000.0",
         "0.04000100000000373"
        ],
        [
         "6",
         "2016-01-13 00:00:00",
         "WLTW",
         "116.459999",
         "112.849998",
         "112.589996",
         "117.07",
         "949600.0",
         "-3.610000999999997"
        ],
        [
         "7",
         "2016-01-14 00:00:00",
         "WLTW",
         "113.510002",
         "114.379997",
         "110.050003",
         "115.029999",
         "785300.0",
         "0.869995000000003"
        ],
        [
         "8",
         "2016-01-15 00:00:00",
         "WLTW",
         "113.330002",
         "112.529999",
         "111.919998",
         "114.879997",
         "1093700.0",
         "-0.8000029999999896"
        ],
        [
         "9",
         "2016-01-19 00:00:00",
         "WLTW",
         "113.660004",
         "110.379997",
         "109.870003",
         "115.870003",
         "1523500.0",
         "-3.2800069999999977"
        ],
        [
         "10",
         "2016-01-20 00:00:00",
         "WLTW",
         "109.059998",
         "109.300003",
         "108.32",
         "111.599998",
         "1653900.0",
         "0.24000500000001068"
        ],
        [
         "11",
         "2016-01-21 00:00:00",
         "WLTW",
         "109.730003",
         "110.0",
         "108.32",
         "110.580002",
         "944300.0",
         "0.2699970000000036"
        ],
        [
         "12",
         "2016-01-22 00:00:00",
         "WLTW",
         "111.879997",
         "111.949997",
         "110.190002",
         "112.949997",
         "744900.0",
         "0.06999999999999318"
        ],
        [
         "13",
         "2016-01-25 00:00:00",
         "WLTW",
         "111.32",
         "110.120003",
         "110.0",
         "114.629997",
         "703800.0",
         "-1.1999969999999962"
        ],
        [
         "14",
         "2016-01-26 00:00:00",
         "WLTW",
         "110.419998",
         "111.0",
         "107.300003",
         "111.400002",
         "563100.0",
         "0.5800019999999932"
        ],
        [
         "15",
         "2016-01-27 00:00:00",
         "WLTW",
         "110.769997",
         "110.709999",
         "109.019997",
         "112.57",
         "896100.0",
         "-0.05999800000000732"
        ],
        [
         "16",
         "2016-01-28 00:00:00",
         "WLTW",
         "110.900002",
         "112.580002",
         "109.900002",
         "112.970001",
         "680400.0",
         "1.6799999999999926"
        ],
        [
         "17",
         "2016-01-29 00:00:00",
         "WLTW",
         "113.349998",
         "114.470001",
         "111.669998",
         "114.589996",
         "749900.0",
         "1.120002999999997"
        ],
        [
         "18",
         "2016-02-01 00:00:00",
         "WLTW",
         "114.0",
         "114.5",
         "112.900002",
         "114.849998",
         "574200.0",
         "0.5"
        ],
        [
         "19",
         "2016-02-02 00:00:00",
         "WLTW",
         "113.25",
         "110.559998",
         "109.75",
         "113.860001",
         "694800.0",
         "-2.690002000000007"
        ],
        [
         "20",
         "2016-02-03 00:00:00",
         "WLTW",
         "113.379997",
         "114.050003",
         "109.639999",
         "114.639999",
         "896300.0",
         "0.6700060000000008"
        ],
        [
         "21",
         "2016-02-04 00:00:00",
         "WLTW",
         "114.080002",
         "115.709999",
         "114.080002",
         "116.32",
         "956300.0",
         "1.629997000000003"
        ],
        [
         "22",
         "2016-02-05 00:00:00",
         "WLTW",
         "115.120003",
         "114.019997",
         "109.709999",
         "116.489998",
         "997100.0",
         "-1.1000059999999934"
        ],
        [
         "23",
         "2016-02-08 00:00:00",
         "WLTW",
         "113.300003",
         "111.160004",
         "110.459999",
         "113.300003",
         "1200500.0",
         "-2.139999000000003"
        ],
        [
         "24",
         "2016-02-09 00:00:00",
         "WLTW",
         "111.169998",
         "110.650002",
         "109.639999",
         "112.110001",
         "1725200.0",
         "-0.5199960000000061"
        ],
        [
         "25",
         "2016-02-10 00:00:00",
         "WLTW",
         "106.730003",
         "107.519997",
         "106.360001",
         "112.110001",
         "1946000.0",
         "0.7899940000000072"
        ],
        [
         "26",
         "2016-02-11 00:00:00",
         "WLTW",
         "105.629997",
         "107.129997",
         "104.110001",
         "109.260002",
         "1319500.0",
         "1.5"
        ],
        [
         "27",
         "2016-02-12 00:00:00",
         "WLTW",
         "108.559998",
         "107.839996",
         "107.07",
         "109.43",
         "922400.0",
         "-0.7200019999999938"
        ],
        [
         "28",
         "2016-02-16 00:00:00",
         "WLTW",
         "109.110001",
         "110.769997",
         "107.010002",
         "111.300003",
         "1185100.0",
         "1.6599960000000067"
        ],
        [
         "29",
         "2016-02-17 00:00:00",
         "WLTW",
         "110.830002",
         "111.239998",
         "107.970001",
         "112.110001",
         "921500.0",
         "0.4099960000000067"
        ],
        [
         "30",
         "2016-02-18 00:00:00",
         "WLTW",
         "111.120003",
         "111.599998",
         "108.93",
         "112.199997",
         "440900.0",
         "0.4799950000000024"
        ],
        [
         "31",
         "2016-02-19 00:00:00",
         "WLTW",
         "111.370003",
         "110.330002",
         "107.279999",
         "112.400002",
         "1244300.0",
         "-1.0400010000000037"
        ],
        [
         "32",
         "2016-02-22 00:00:00",
         "WLTW",
         "111.360001",
         "113.040001",
         "111.010002",
         "113.230003",
         "681300.0",
         "1.6800000000000068"
        ],
        [
         "33",
         "2016-02-23 00:00:00",
         "WLTW",
         "112.370003",
         "111.889999",
         "111.349998",
         "112.800003",
         "411200.0",
         "-0.4800039999999939"
        ],
        [
         "34",
         "2016-02-24 00:00:00",
         "WLTW",
         "110.769997",
         "111.559998",
         "109.82",
         "112.489998",
         "447300.0",
         "0.7900009999999895"
        ],
        [
         "35",
         "2016-02-25 00:00:00",
         "WLTW",
         "111.599998",
         "112.879997",
         "110.75",
         "112.989998",
         "559200.0",
         "1.2799990000000037"
        ],
        [
         "36",
         "2016-02-26 00:00:00",
         "WLTW",
         "113.339996",
         "112.75",
         "111.010002",
         "114.18",
         "459900.0",
         "-0.5899959999999993"
        ],
        [
         "37",
         "2016-02-29 00:00:00",
         "WLTW",
         "113.040001",
         "113.32",
         "111.650002",
         "115.360001",
         "971600.0",
         "0.27999899999998945"
        ],
        [
         "38",
         "2016-03-01 00:00:00",
         "WLTW",
         "114.269997",
         "115.510002",
         "112.650002",
         "115.57",
         "694100.0",
         "1.2400049999999965"
        ],
        [
         "39",
         "2016-03-02 00:00:00",
         "WLTW",
         "115.349998",
         "116.779999",
         "115.199997",
         "117.089996",
         "1159600.0",
         "1.4300010000000043"
        ],
        [
         "40",
         "2016-03-03 00:00:00",
         "WLTW",
         "116.489998",
         "117.0",
         "115.419998",
         "117.669998",
         "884700.0",
         "0.5100020000000001"
        ],
        [
         "41",
         "2016-03-04 00:00:00",
         "WLTW",
         "116.610001",
         "117.190002",
         "115.57",
         "117.480003",
         "692000.0",
         "0.58000100000001"
        ],
        [
         "42",
         "2016-03-07 00:00:00",
         "WLTW",
         "116.050003",
         "116.949997",
         "115.989998",
         "117.480003",
         "898000.0",
         "0.8999939999999924"
        ],
        [
         "43",
         "2016-03-08 00:00:00",
         "WLTW",
         "116.5",
         "116.709999",
         "115.449997",
         "117.370003",
         "844500.0",
         "0.20999899999999627"
        ],
        [
         "44",
         "2016-03-09 00:00:00",
         "WLTW",
         "117.050003",
         "116.489998",
         "115.5",
         "117.309998",
         "796500.0",
         "-0.5600050000000039"
        ],
        [
         "45",
         "2016-03-10 00:00:00",
         "WLTW",
         "116.910004",
         "116.82",
         "114.139999",
         "118.0",
         "416800.0",
         "-0.09000400000000752"
        ],
        [
         "46",
         "2016-03-11 00:00:00",
         "WLTW",
         "117.93",
         "120.620003",
         "116.629997",
         "120.760002",
         "590200.0",
         "2.69000299999999"
        ],
        [
         "47",
         "2016-03-14 00:00:00",
         "WLTW",
         "120.419998",
         "120.629997",
         "118.599998",
         "121.040001",
         "495100.0",
         "0.20999899999999627"
        ],
        [
         "48",
         "2016-03-15 00:00:00",
         "WLTW",
         "119.839996",
         "120.699997",
         "118.089996",
         "120.760002",
         "515800.0",
         "0.8600009999999969"
        ],
        [
         "49",
         "2016-03-16 00:00:00",
         "WLTW",
         "120.349998",
         "120.82",
         "119.010002",
         "121.040001",
         "562100.0",
         "0.4700019999999938"
        ]
       ],
       "shape": {
        "columns": 8,
        "rows": 851264
       }
      },
      "text/html": [
       "<div>\n",
       "<style scoped>\n",
       "    .dataframe tbody tr th:only-of-type {\n",
       "        vertical-align: middle;\n",
       "    }\n",
       "\n",
       "    .dataframe tbody tr th {\n",
       "        vertical-align: top;\n",
       "    }\n",
       "\n",
       "    .dataframe thead th {\n",
       "        text-align: right;\n",
       "    }\n",
       "</style>\n",
       "<table border=\"1\" class=\"dataframe\">\n",
       "  <thead>\n",
       "    <tr style=\"text-align: right;\">\n",
       "      <th></th>\n",
       "      <th>date</th>\n",
       "      <th>symbol</th>\n",
       "      <th>open</th>\n",
       "      <th>close</th>\n",
       "      <th>low</th>\n",
       "      <th>high</th>\n",
       "      <th>volume</th>\n",
       "      <th>Daily Return</th>\n",
       "    </tr>\n",
       "  </thead>\n",
       "  <tbody>\n",
       "    <tr>\n",
       "      <th>0</th>\n",
       "      <td>2016-01-05 00:00:00</td>\n",
       "      <td>WLTW</td>\n",
       "      <td>123.430000</td>\n",
       "      <td>125.839996</td>\n",
       "      <td>122.309998</td>\n",
       "      <td>126.250000</td>\n",
       "      <td>2163600.0</td>\n",
       "      <td>2.409996</td>\n",
       "    </tr>\n",
       "    <tr>\n",
       "      <th>1</th>\n",
       "      <td>2016-01-06 00:00:00</td>\n",
       "      <td>WLTW</td>\n",
       "      <td>125.239998</td>\n",
       "      <td>119.980003</td>\n",
       "      <td>119.940002</td>\n",
       "      <td>125.540001</td>\n",
       "      <td>2386400.0</td>\n",
       "      <td>-5.259995</td>\n",
       "    </tr>\n",
       "    <tr>\n",
       "      <th>2</th>\n",
       "      <td>2016-01-07 00:00:00</td>\n",
       "      <td>WLTW</td>\n",
       "      <td>116.379997</td>\n",
       "      <td>114.949997</td>\n",
       "      <td>114.930000</td>\n",
       "      <td>119.739998</td>\n",
       "      <td>2489500.0</td>\n",
       "      <td>-1.430000</td>\n",
       "    </tr>\n",
       "    <tr>\n",
       "      <th>3</th>\n",
       "      <td>2016-01-08 00:00:00</td>\n",
       "      <td>WLTW</td>\n",
       "      <td>115.480003</td>\n",
       "      <td>116.620003</td>\n",
       "      <td>113.500000</td>\n",
       "      <td>117.440002</td>\n",
       "      <td>2006300.0</td>\n",
       "      <td>1.140000</td>\n",
       "    </tr>\n",
       "    <tr>\n",
       "      <th>4</th>\n",
       "      <td>2016-01-11 00:00:00</td>\n",
       "      <td>WLTW</td>\n",
       "      <td>117.010002</td>\n",
       "      <td>114.970001</td>\n",
       "      <td>114.089996</td>\n",
       "      <td>117.330002</td>\n",
       "      <td>1408600.0</td>\n",
       "      <td>-2.040001</td>\n",
       "    </tr>\n",
       "    <tr>\n",
       "      <th>...</th>\n",
       "      <td>...</td>\n",
       "      <td>...</td>\n",
       "      <td>...</td>\n",
       "      <td>...</td>\n",
       "      <td>...</td>\n",
       "      <td>...</td>\n",
       "      <td>...</td>\n",
       "      <td>...</td>\n",
       "    </tr>\n",
       "    <tr>\n",
       "      <th>851259</th>\n",
       "      <td>2016-12-30</td>\n",
       "      <td>ZBH</td>\n",
       "      <td>103.309998</td>\n",
       "      <td>103.199997</td>\n",
       "      <td>102.849998</td>\n",
       "      <td>103.930000</td>\n",
       "      <td>973800.0</td>\n",
       "      <td>-0.110001</td>\n",
       "    </tr>\n",
       "    <tr>\n",
       "      <th>851260</th>\n",
       "      <td>2016-12-30</td>\n",
       "      <td>ZION</td>\n",
       "      <td>43.070000</td>\n",
       "      <td>43.040001</td>\n",
       "      <td>42.689999</td>\n",
       "      <td>43.310001</td>\n",
       "      <td>1938100.0</td>\n",
       "      <td>-0.029999</td>\n",
       "    </tr>\n",
       "    <tr>\n",
       "      <th>851261</th>\n",
       "      <td>2016-12-30</td>\n",
       "      <td>ZTS</td>\n",
       "      <td>53.639999</td>\n",
       "      <td>53.529999</td>\n",
       "      <td>53.270000</td>\n",
       "      <td>53.740002</td>\n",
       "      <td>1701200.0</td>\n",
       "      <td>-0.110000</td>\n",
       "    </tr>\n",
       "    <tr>\n",
       "      <th>851262</th>\n",
       "      <td>2016-12-30 00:00:00</td>\n",
       "      <td>AIV</td>\n",
       "      <td>44.730000</td>\n",
       "      <td>45.450001</td>\n",
       "      <td>44.410000</td>\n",
       "      <td>45.590000</td>\n",
       "      <td>1380900.0</td>\n",
       "      <td>0.720001</td>\n",
       "    </tr>\n",
       "    <tr>\n",
       "      <th>851263</th>\n",
       "      <td>2016-12-30 00:00:00</td>\n",
       "      <td>FTV</td>\n",
       "      <td>54.200001</td>\n",
       "      <td>53.630001</td>\n",
       "      <td>53.389999</td>\n",
       "      <td>54.480000</td>\n",
       "      <td>705100.0</td>\n",
       "      <td>-0.570000</td>\n",
       "    </tr>\n",
       "  </tbody>\n",
       "</table>\n",
       "<p>851264 rows × 8 columns</p>\n",
       "</div>"
      ],
      "text/plain": [
       "                       date symbol        open       close         low  \\\n",
       "0       2016-01-05 00:00:00   WLTW  123.430000  125.839996  122.309998   \n",
       "1       2016-01-06 00:00:00   WLTW  125.239998  119.980003  119.940002   \n",
       "2       2016-01-07 00:00:00   WLTW  116.379997  114.949997  114.930000   \n",
       "3       2016-01-08 00:00:00   WLTW  115.480003  116.620003  113.500000   \n",
       "4       2016-01-11 00:00:00   WLTW  117.010002  114.970001  114.089996   \n",
       "...                     ...    ...         ...         ...         ...   \n",
       "851259           2016-12-30    ZBH  103.309998  103.199997  102.849998   \n",
       "851260           2016-12-30   ZION   43.070000   43.040001   42.689999   \n",
       "851261           2016-12-30    ZTS   53.639999   53.529999   53.270000   \n",
       "851262  2016-12-30 00:00:00    AIV   44.730000   45.450001   44.410000   \n",
       "851263  2016-12-30 00:00:00    FTV   54.200001   53.630001   53.389999   \n",
       "\n",
       "              high     volume  Daily Return  \n",
       "0       126.250000  2163600.0      2.409996  \n",
       "1       125.540001  2386400.0     -5.259995  \n",
       "2       119.739998  2489500.0     -1.430000  \n",
       "3       117.440002  2006300.0      1.140000  \n",
       "4       117.330002  1408600.0     -2.040001  \n",
       "...            ...        ...           ...  \n",
       "851259  103.930000   973800.0     -0.110001  \n",
       "851260   43.310001  1938100.0     -0.029999  \n",
       "851261   53.740002  1701200.0     -0.110000  \n",
       "851262   45.590000  1380900.0      0.720001  \n",
       "851263   54.480000   705100.0     -0.570000  \n",
       "\n",
       "[851264 rows x 8 columns]"
      ]
     },
     "execution_count": 44,
     "metadata": {},
     "output_type": "execute_result"
    }
   ],
   "source": [
    "df2"
   ]
  },
  {
   "cell_type": "code",
   "execution_count": null,
   "metadata": {},
   "outputs": [],
   "source": []
  }
 ],
 "metadata": {
  "kernelspec": {
   "display_name": "Python 3",
   "language": "python",
   "name": "python3"
  },
  "language_info": {
   "codemirror_mode": {
    "name": "ipython",
    "version": 3
   },
   "file_extension": ".py",
   "mimetype": "text/x-python",
   "name": "python",
   "nbconvert_exporter": "python",
   "pygments_lexer": "ipython3",
   "version": "3.12.0"
  }
 },
 "nbformat": 4,
 "nbformat_minor": 2
}
